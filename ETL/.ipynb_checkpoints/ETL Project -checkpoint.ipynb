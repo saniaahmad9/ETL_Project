{
 "cells": [
  {
   "cell_type": "markdown",
   "metadata": {},
   "source": [
    "# ETL Project\n",
    "### By: Sayed Zewari, Haris Nawzadi, Sania Ahmad "
   ]
  },
  {
   "cell_type": "markdown",
   "metadata": {},
   "source": [
    "## Title: Economic Factors Contributing to Cardiovascular Disease-Related Death \n",
    "### Every year, over 600,000 people die from Cardiovascular Disease. While there are obvious health-related risk factors, we wondered if there are economic factors that also play a role. Here we begin to analye data sets from the CDC and Data World to answer this very question. "
   ]
  },
  {
   "cell_type": "markdown",
   "metadata": {},
   "source": [
    "### Import Statements"
   ]
  },
  {
   "cell_type": "code",
   "execution_count": 96,
   "metadata": {},
   "outputs": [],
   "source": [
    "import pandas as pd\n",
    "from functools import reduce\n",
    "import matplotlib.pyplot as plt\n",
    "import numpy as np\n",
    "from sqlalchemy import create_engine"
   ]
  },
  {
   "cell_type": "markdown",
   "metadata": {},
   "source": [
    "### Data Set #1 - Cardiovascular Deaths by County \n",
    "#### This file from CDC.gov includes all Cardiovascular-related deaths (Coronary Heart Disease, Stroke, Heart Failure, Hypertension, etc.) between 2014-2016. The \"Deaths\" column includes the death rate per 100,000 people, ages 35 and over, with all races and genders included.\n",
    "\n",
    "#### In this step we read in the file and convert it to a data frame. "
   ]
  },
  {
   "cell_type": "code",
   "execution_count": 18,
   "metadata": {},
   "outputs": [
    {
     "data": {
      "text/html": [
       "<div>\n",
       "<style scoped>\n",
       "    .dataframe tbody tr th:only-of-type {\n",
       "        vertical-align: middle;\n",
       "    }\n",
       "\n",
       "    .dataframe tbody tr th {\n",
       "        vertical-align: top;\n",
       "    }\n",
       "\n",
       "    .dataframe thead th {\n",
       "        text-align: right;\n",
       "    }\n",
       "</style>\n",
       "<table border=\"1\" class=\"dataframe\">\n",
       "  <thead>\n",
       "    <tr style=\"text-align: right;\">\n",
       "      <th></th>\n",
       "      <th>County</th>\n",
       "      <th>State</th>\n",
       "      <th>Deaths</th>\n",
       "    </tr>\n",
       "  </thead>\n",
       "  <tbody>\n",
       "    <tr>\n",
       "      <th>0</th>\n",
       "      <td>Aleutians East</td>\n",
       "      <td>AK</td>\n",
       "      <td>106.1</td>\n",
       "    </tr>\n",
       "    <tr>\n",
       "      <th>1</th>\n",
       "      <td>Pitkin</td>\n",
       "      <td>CO</td>\n",
       "      <td>133.8</td>\n",
       "    </tr>\n",
       "    <tr>\n",
       "      <th>2</th>\n",
       "      <td>Eagle</td>\n",
       "      <td>CO</td>\n",
       "      <td>157.5</td>\n",
       "    </tr>\n",
       "    <tr>\n",
       "      <th>3</th>\n",
       "      <td>Summit</td>\n",
       "      <td>CO</td>\n",
       "      <td>171.8</td>\n",
       "    </tr>\n",
       "    <tr>\n",
       "      <th>4</th>\n",
       "      <td>Aleutians West</td>\n",
       "      <td>AK</td>\n",
       "      <td>184.7</td>\n",
       "    </tr>\n",
       "  </tbody>\n",
       "</table>\n",
       "</div>"
      ],
      "text/plain": [
       "           County State  Deaths\n",
       "0  Aleutians East    AK   106.1\n",
       "1          Pitkin    CO   133.8\n",
       "2           Eagle    CO   157.5\n",
       "3          Summit    CO   171.8\n",
       "4  Aleutians West    AK   184.7"
      ]
     },
     "execution_count": 18,
     "metadata": {},
     "output_type": "execute_result"
    }
   ],
   "source": [
    "df_deaths = pd.read_csv(\"Resources/Heart_Death.csv\")\n",
    "df_deaths.columns = ['County', 'State', 'Deaths']\n",
    "df_deaths.head()"
   ]
  },
  {
   "cell_type": "markdown",
   "metadata": {},
   "source": [
    "### Data Set #2: % of County Population Without Health Insurance\n",
    "#### This file from CDC.gov includes the Percentage of the Population without Health Insurance. This data includes those under the age of 65+, all races and genders included. The \"Without Insurance\" column is the percentage of the population without insurance. \n",
    "\n",
    "#### In this step we read in the file and convert it to a data frame. We included the \"encoding = UTF-16\" and additional parameters because the file saved as a .txt file. "
   ]
  },
  {
   "cell_type": "code",
   "execution_count": 19,
   "metadata": {},
   "outputs": [
    {
     "data": {
      "text/html": [
       "<div>\n",
       "<style scoped>\n",
       "    .dataframe tbody tr th:only-of-type {\n",
       "        vertical-align: middle;\n",
       "    }\n",
       "\n",
       "    .dataframe tbody tr th {\n",
       "        vertical-align: top;\n",
       "    }\n",
       "\n",
       "    .dataframe thead th {\n",
       "        text-align: right;\n",
       "    }\n",
       "</style>\n",
       "<table border=\"1\" class=\"dataframe\">\n",
       "  <thead>\n",
       "    <tr style=\"text-align: right;\">\n",
       "      <th></th>\n",
       "      <th>County</th>\n",
       "      <th>State</th>\n",
       "      <th>Without Insurance</th>\n",
       "    </tr>\n",
       "  </thead>\n",
       "  <tbody>\n",
       "    <tr>\n",
       "      <th>0</th>\n",
       "      <td>Norfolk</td>\n",
       "      <td>MA</td>\n",
       "      <td>2.1</td>\n",
       "    </tr>\n",
       "    <tr>\n",
       "      <th>1</th>\n",
       "      <td>Plymouth</td>\n",
       "      <td>MA</td>\n",
       "      <td>2.5</td>\n",
       "    </tr>\n",
       "    <tr>\n",
       "      <th>2</th>\n",
       "      <td>Hampshire</td>\n",
       "      <td>MA</td>\n",
       "      <td>2.6</td>\n",
       "    </tr>\n",
       "    <tr>\n",
       "      <th>3</th>\n",
       "      <td>Middlesex</td>\n",
       "      <td>MA</td>\n",
       "      <td>2.7</td>\n",
       "    </tr>\n",
       "    <tr>\n",
       "      <th>4</th>\n",
       "      <td>Franklin</td>\n",
       "      <td>MA</td>\n",
       "      <td>2.8</td>\n",
       "    </tr>\n",
       "  </tbody>\n",
       "</table>\n",
       "</div>"
      ],
      "text/plain": [
       "      County State  Without Insurance\n",
       "0    Norfolk    MA                2.1\n",
       "1   Plymouth    MA                2.5\n",
       "2  Hampshire    MA                2.6\n",
       "3  Middlesex    MA                2.7\n",
       "4   Franklin    MA                2.8"
      ]
     },
     "execution_count": 19,
     "metadata": {},
     "output_type": "execute_result"
    }
   ],
   "source": [
    "df_insurance = pd.read_csv(\"Resources/Without_Insurance.txt\", encoding=\"UTF-16\", sep='\\t',header=0)\n",
    "df_insurance.columns = ['County', 'State', 'Without Insurance']\n",
    "df_insurance.head()"
   ]
  },
  {
   "cell_type": "markdown",
   "metadata": {},
   "source": [
    "### Data Set #3 - Unemployment Rate by County \n",
    "#### This file from Data World includes Unemployment Rate by county including the years 2014-2016. All races and genders included. \n",
    "\n",
    "#### In this step we read in the file and convert it to a data frame. We included the \"encoding = UTF-16\" and additional parameters because the file saved as a .txt file. "
   ]
  },
  {
   "cell_type": "code",
   "execution_count": 110,
   "metadata": {},
   "outputs": [
    {
     "data": {
      "text/html": [
       "<div>\n",
       "<style scoped>\n",
       "    .dataframe tbody tr th:only-of-type {\n",
       "        vertical-align: middle;\n",
       "    }\n",
       "\n",
       "    .dataframe tbody tr th {\n",
       "        vertical-align: top;\n",
       "    }\n",
       "\n",
       "    .dataframe thead th {\n",
       "        text-align: right;\n",
       "    }\n",
       "</style>\n",
       "<table border=\"1\" class=\"dataframe\">\n",
       "  <thead>\n",
       "    <tr style=\"text-align: right;\">\n",
       "      <th></th>\n",
       "      <th>County</th>\n",
       "      <th>State</th>\n",
       "      <th>Unemployment Rate</th>\n",
       "    </tr>\n",
       "  </thead>\n",
       "  <tbody>\n",
       "    <tr>\n",
       "      <th>0</th>\n",
       "      <td>Blaine</td>\n",
       "      <td>NE</td>\n",
       "      <td>1.1</td>\n",
       "    </tr>\n",
       "    <tr>\n",
       "      <th>1</th>\n",
       "      <td>Denali</td>\n",
       "      <td>AK</td>\n",
       "      <td>1.3</td>\n",
       "    </tr>\n",
       "    <tr>\n",
       "      <th>2</th>\n",
       "      <td>Loup</td>\n",
       "      <td>NE</td>\n",
       "      <td>1.7</td>\n",
       "    </tr>\n",
       "    <tr>\n",
       "      <th>3</th>\n",
       "      <td>Falls Church</td>\n",
       "      <td>VA</td>\n",
       "      <td>1.8</td>\n",
       "    </tr>\n",
       "    <tr>\n",
       "      <th>4</th>\n",
       "      <td>Rich</td>\n",
       "      <td>UT</td>\n",
       "      <td>1.9</td>\n",
       "    </tr>\n",
       "  </tbody>\n",
       "</table>\n",
       "</div>"
      ],
      "text/plain": [
       "         County State  Unemployment Rate\n",
       "0        Blaine    NE                1.1\n",
       "1        Denali    AK                1.3\n",
       "2          Loup    NE                1.7\n",
       "3  Falls Church    VA                1.8\n",
       "4          Rich    UT                1.9"
      ]
     },
     "execution_count": 110,
     "metadata": {},
     "output_type": "execute_result"
    }
   ],
   "source": [
    "df_unemp = pd.read_csv(\"Resources/Unemployment_Rate.txt\", encoding=\"UTF-16\", sep='\\t',header=0)\n",
    "df_unemployment = df_unemp.drop([\"Unnamed: 3\"], axis=1)\n",
    "df_unemployment.columns = ['County', 'State', 'Unemployment Rate']\n",
    "df_unemployment.head()"
   ]
  },
  {
   "cell_type": "markdown",
   "metadata": {},
   "source": [
    "### Data Set #4 - Median Income\n",
    "#### This file is from Data World. Includes median income including the years 2014-2016 by county. All races and genders included. The \"Median Income\" column is the Median Household Income in the thousands. \n",
    "\n",
    "#### In this step we read in the file and convert it to a data frame. We included the \"encoding = UTF-16\" and additional parameters because the file saved as a .txt file. "
   ]
  },
  {
   "cell_type": "code",
   "execution_count": 5,
   "metadata": {},
   "outputs": [
    {
     "data": {
      "text/html": [
       "<div>\n",
       "<style scoped>\n",
       "    .dataframe tbody tr th:only-of-type {\n",
       "        vertical-align: middle;\n",
       "    }\n",
       "\n",
       "    .dataframe tbody tr th {\n",
       "        vertical-align: top;\n",
       "    }\n",
       "\n",
       "    .dataframe thead th {\n",
       "        text-align: right;\n",
       "    }\n",
       "</style>\n",
       "<table border=\"1\" class=\"dataframe\">\n",
       "  <thead>\n",
       "    <tr style=\"text-align: right;\">\n",
       "      <th></th>\n",
       "      <th>County</th>\n",
       "      <th>State</th>\n",
       "      <th>Median Income</th>\n",
       "    </tr>\n",
       "  </thead>\n",
       "  <tbody>\n",
       "    <tr>\n",
       "      <th>0</th>\n",
       "      <td>Holmes</td>\n",
       "      <td>MS</td>\n",
       "      <td>22.0</td>\n",
       "    </tr>\n",
       "    <tr>\n",
       "      <th>1</th>\n",
       "      <td>Buffalo</td>\n",
       "      <td>SD</td>\n",
       "      <td>22.5</td>\n",
       "    </tr>\n",
       "    <tr>\n",
       "      <th>2</th>\n",
       "      <td>Owsley</td>\n",
       "      <td>KY</td>\n",
       "      <td>23.1</td>\n",
       "    </tr>\n",
       "    <tr>\n",
       "      <th>3</th>\n",
       "      <td>Wilcox</td>\n",
       "      <td>AL</td>\n",
       "      <td>24.2</td>\n",
       "    </tr>\n",
       "    <tr>\n",
       "      <th>4</th>\n",
       "      <td>McDowell</td>\n",
       "      <td>WV</td>\n",
       "      <td>24.5</td>\n",
       "    </tr>\n",
       "  </tbody>\n",
       "</table>\n",
       "</div>"
      ],
      "text/plain": [
       "     County State  Median Income\n",
       "0    Holmes    MS           22.0\n",
       "1   Buffalo    SD           22.5\n",
       "2    Owsley    KY           23.1\n",
       "3    Wilcox    AL           24.2\n",
       "4  McDowell    WV           24.5"
      ]
     },
     "execution_count": 5,
     "metadata": {},
     "output_type": "execute_result"
    }
   ],
   "source": [
    "df_inc = pd.read_csv(\"Resources/Median_Income.txt\", encoding=\"UTF-16\", sep='\\t',header=0)\n",
    "df_income = df_inc.drop([\"Unnamed: 3\"], axis=1)\n",
    "df_income.columns = ['County', 'State', 'Median Income']\n",
    "df_income.head()"
   ]
  },
  {
   "cell_type": "markdown",
   "metadata": {},
   "source": [
    "### Combining the Data: Merge\n",
    "#### Now that we have our 4 data sets read into our file and cleaned, we want to merge them into one common data frame. We do this by doing a merge. We decided that instead of doing four sequential merges, we wanted to do a merge of all four data frames all at once. \n",
    "\n",
    "#### First, we save all of our data frames into a list called \"data frames\". We then use the reduce function, which allows us to apply the merge function we defined to all of our data frames at once. We merge all the data frames on the \"County\" and \"State\" column, which appear in all four data frames and do an outer join. "
   ]
  },
  {
   "cell_type": "code",
   "execution_count": 6,
   "metadata": {},
   "outputs": [],
   "source": [
    "data_frames = [df_income, df_unemployment, df_deaths, df_insurance]"
   ]
  },
  {
   "cell_type": "code",
   "execution_count": 7,
   "metadata": {},
   "outputs": [],
   "source": [
    "merge = reduce(lambda  left,right: pd.merge(left,right,on=['County', 'State'],\n",
    "                                            how='outer'), data_frames)"
   ]
  },
  {
   "cell_type": "markdown",
   "metadata": {},
   "source": [
    "#### Once the merge was complete, we dropped any values that were NA. Since we were pulling data sets from different sources, we knew not every data set would have all the same counties. We wanted to drop any counties missing values in any of our four columns (deaths, median income, unemployment rate, and without insurance). \n",
    "\n",
    "#### We then did another test to make sure there were no NA values in our merged data frame using the .isna() function. No NA values were found"
   ]
  },
  {
   "cell_type": "code",
   "execution_count": 90,
   "metadata": {},
   "outputs": [
    {
     "data": {
      "text/html": [
       "<div>\n",
       "<style scoped>\n",
       "    .dataframe tbody tr th:only-of-type {\n",
       "        vertical-align: middle;\n",
       "    }\n",
       "\n",
       "    .dataframe tbody tr th {\n",
       "        vertical-align: top;\n",
       "    }\n",
       "\n",
       "    .dataframe thead th {\n",
       "        text-align: right;\n",
       "    }\n",
       "</style>\n",
       "<table border=\"1\" class=\"dataframe\">\n",
       "  <thead>\n",
       "    <tr style=\"text-align: right;\">\n",
       "      <th></th>\n",
       "      <th>County</th>\n",
       "      <th>State</th>\n",
       "      <th>Median Income</th>\n",
       "      <th>Unemployment Rate</th>\n",
       "      <th>Deaths</th>\n",
       "      <th>Without Insurance</th>\n",
       "    </tr>\n",
       "  </thead>\n",
       "  <tbody>\n",
       "    <tr>\n",
       "      <th>2896</th>\n",
       "      <td>Kenai Peninsula</td>\n",
       "      <td>AK</td>\n",
       "      <td>68.5</td>\n",
       "      <td>7.4</td>\n",
       "      <td>415.8</td>\n",
       "      <td>17.9</td>\n",
       "    </tr>\n",
       "    <tr>\n",
       "      <th>1429</th>\n",
       "      <td>Bethel</td>\n",
       "      <td>AK</td>\n",
       "      <td>46.6</td>\n",
       "      <td>19.8</td>\n",
       "      <td>480.6</td>\n",
       "      <td>23.9</td>\n",
       "    </tr>\n",
       "    <tr>\n",
       "      <th>2982</th>\n",
       "      <td>Kodiak Island</td>\n",
       "      <td>AK</td>\n",
       "      <td>74.7</td>\n",
       "      <td>11.5</td>\n",
       "      <td>287.6</td>\n",
       "      <td>21.7</td>\n",
       "    </tr>\n",
       "    <tr>\n",
       "      <th>3066</th>\n",
       "      <td>Anchorage</td>\n",
       "      <td>AK</td>\n",
       "      <td>84.0</td>\n",
       "      <td>6.6</td>\n",
       "      <td>346.2</td>\n",
       "      <td>12.9</td>\n",
       "    </tr>\n",
       "    <tr>\n",
       "      <th>3016</th>\n",
       "      <td>Aleutians West</td>\n",
       "      <td>AK</td>\n",
       "      <td>78.2</td>\n",
       "      <td>11.7</td>\n",
       "      <td>184.7</td>\n",
       "      <td>22.3</td>\n",
       "    </tr>\n",
       "  </tbody>\n",
       "</table>\n",
       "</div>"
      ],
      "text/plain": [
       "               County State  Median Income  Unemployment Rate  Deaths  \\\n",
       "2896  Kenai Peninsula    AK           68.5                7.4   415.8   \n",
       "1429           Bethel    AK           46.6               19.8   480.6   \n",
       "2982    Kodiak Island    AK           74.7               11.5   287.6   \n",
       "3066        Anchorage    AK           84.0                6.6   346.2   \n",
       "3016   Aleutians West    AK           78.2               11.7   184.7   \n",
       "\n",
       "      Without Insurance  \n",
       "2896               17.9  \n",
       "1429               23.9  \n",
       "2982               21.7  \n",
       "3066               12.9  \n",
       "3016               22.3  "
      ]
     },
     "execution_count": 90,
     "metadata": {},
     "output_type": "execute_result"
    }
   ],
   "source": [
    "df_merge = merge.dropna(subset=['Unemployment Rate', 'Deaths', 'Without Insurance'])\n",
    "df_merged = df_merge.sort_values(by='State')\n",
    "df_merged.head()"
   ]
  },
  {
   "cell_type": "code",
   "execution_count": 92,
   "metadata": {},
   "outputs": [],
   "source": [
    "na_check = df_merged.isna()\n",
    "na_check_mi = na_check.loc[na_check[\"Median Income\"] == \"True\", :]\n",
    "na_check_ur = na_check.loc[na_check[\"Unemployment Rate\"] == \"True\", :]\n",
    "na_check_d = na_check.loc[na_check[\"Deaths\"] == \"True\", :]\n",
    "na_check_wi = na_check.loc[na_check[\"Without Insurance\"] == \"True\", :]"
   ]
  },
  {
   "cell_type": "markdown",
   "metadata": {},
   "source": [
    "### A Quick Analaysis of the Data\n",
    "#### With our data merged, we wanted to do a quick, broad analysis just to see what the overall data tells us. We felt that the best way to depict this was to do a bar graph by state, measuring the number of deaths. This would quickly give us an idea of what our data looks like and where we would need to go next for further analysis. \n",
    "\n",
    "#### To get our bar graph, we took our merged data frame, grouped by state, and took a sum by state, graphing the result"
   ]
  },
  {
   "cell_type": "code",
   "execution_count": 89,
   "metadata": {},
   "outputs": [
    {
     "data": {
      "text/html": [
       "<div>\n",
       "<style scoped>\n",
       "    .dataframe tbody tr th:only-of-type {\n",
       "        vertical-align: middle;\n",
       "    }\n",
       "\n",
       "    .dataframe tbody tr th {\n",
       "        vertical-align: top;\n",
       "    }\n",
       "\n",
       "    .dataframe thead th {\n",
       "        text-align: right;\n",
       "    }\n",
       "</style>\n",
       "<table border=\"1\" class=\"dataframe\">\n",
       "  <thead>\n",
       "    <tr style=\"text-align: right;\">\n",
       "      <th></th>\n",
       "      <th>State</th>\n",
       "      <th>Deaths</th>\n",
       "    </tr>\n",
       "  </thead>\n",
       "  <tbody>\n",
       "    <tr>\n",
       "      <th>0</th>\n",
       "      <td>AK</td>\n",
       "      <td>8447.1</td>\n",
       "    </tr>\n",
       "    <tr>\n",
       "      <th>1</th>\n",
       "      <td>AL</td>\n",
       "      <td>40447.5</td>\n",
       "    </tr>\n",
       "    <tr>\n",
       "      <th>2</th>\n",
       "      <td>AR</td>\n",
       "      <td>43307.8</td>\n",
       "    </tr>\n",
       "    <tr>\n",
       "      <th>3</th>\n",
       "      <td>AZ</td>\n",
       "      <td>5684.6</td>\n",
       "    </tr>\n",
       "    <tr>\n",
       "      <th>4</th>\n",
       "      <td>CA</td>\n",
       "      <td>23436.5</td>\n",
       "    </tr>\n",
       "  </tbody>\n",
       "</table>\n",
       "</div>"
      ],
      "text/plain": [
       "  State   Deaths\n",
       "0    AK   8447.1\n",
       "1    AL  40447.5\n",
       "2    AR  43307.8\n",
       "3    AZ   5684.6\n",
       "4    CA  23436.5"
      ]
     },
     "execution_count": 89,
     "metadata": {},
     "output_type": "execute_result"
    }
   ],
   "source": [
    "state_deaths = df_merged.groupby('State')\n",
    "death_state = state_deaths[['Deaths']].sum()\n",
    "death_by_state = death_state.reset_index()\n",
    "death_by_state.columns = ['State','Deaths']\n",
    "death_by_state.head()"
   ]
  },
  {
   "cell_type": "code",
   "execution_count": 82,
   "metadata": {
    "scrolled": true
   },
   "outputs": [
    {
     "data": {
      "image/png": "[encoded data removed]",
      "text/plain": [
       "<Figure size 720x360 with 1 Axes>"
      ]
     },
     "metadata": {
      "needs_background": "light"
     },
     "output_type": "display_data"
    }
   ],
   "source": [
    "x_axis = np.arange(len(death_by_state))\n",
    "tick_locations = [value for value in x_axis]\n",
    "plt.figure(figsize=(10,5))\n",
    "plt.bar(x_axis, death_by_state['Deaths'], color='indigo', alpha=0.9, align=\"center\")\n",
    "plt.xticks(tick_locations, death_by_state[\"State\"], rotation=\"vertical\")\n",
    "plt.ylabel('Number of Deaths per 100,000 people')\n",
    "plt.xlabel('State')\n",
    "plt.title('Total Cardiovascular-Related Deaths per State (2014-2016)')\n",
    "\n",
    "plt.savefig(\"SizeNational.png\")\n",
    "plt.show()"
   ]
  },
  {
   "cell_type": "code",
   "execution_count": 114,
   "metadata": {
    "scrolled": false
   },
   "outputs": [
    {
     "data": {
      "text/html": [
       "<div>\n",
       "<style scoped>\n",
       "    .dataframe tbody tr th:only-of-type {\n",
       "        vertical-align: middle;\n",
       "    }\n",
       "\n",
       "    .dataframe tbody tr th {\n",
       "        vertical-align: top;\n",
       "    }\n",
       "\n",
       "    .dataframe thead th {\n",
       "        text-align: right;\n",
       "    }\n",
       "</style>\n",
       "<table border=\"1\" class=\"dataframe\">\n",
       "  <thead>\n",
       "    <tr style=\"text-align: right;\">\n",
       "      <th></th>\n",
       "      <th>Population</th>\n",
       "      <th>State</th>\n",
       "    </tr>\n",
       "  </thead>\n",
       "  <tbody>\n",
       "    <tr>\n",
       "      <th>0</th>\n",
       "      <td>4,863,300</td>\n",
       "      <td>AL</td>\n",
       "    </tr>\n",
       "    <tr>\n",
       "      <th>1</th>\n",
       "      <td>741,894</td>\n",
       "      <td>AK</td>\n",
       "    </tr>\n",
       "    <tr>\n",
       "      <th>2</th>\n",
       "      <td>6,931,071</td>\n",
       "      <td>AZ</td>\n",
       "    </tr>\n",
       "    <tr>\n",
       "      <th>3</th>\n",
       "      <td>2,988,248</td>\n",
       "      <td>AR</td>\n",
       "    </tr>\n",
       "    <tr>\n",
       "      <th>4</th>\n",
       "      <td>39,250,017</td>\n",
       "      <td>CA</td>\n",
       "    </tr>\n",
       "  </tbody>\n",
       "</table>\n",
       "</div>"
      ],
      "text/plain": [
       "   Population State\n",
       "0   4,863,300    AL\n",
       "1     741,894    AK\n",
       "2   6,931,071    AZ\n",
       "3   2,988,248    AR\n",
       "4  39,250,017    CA"
      ]
     },
     "execution_count": 114,
     "metadata": {},
     "output_type": "execute_result"
    }
   ],
   "source": [
    "df_populations = pd.read_csv(\"Resources/State_Populations_2016.txt\", encoding=\"UTF-16\", sep='\\t',header=0)\n",
    "df_populations.head()"
   ]
  },
  {
   "cell_type": "markdown",
   "metadata": {},
   "source": [
    "### Loading into SQL Database\n",
    "#### We create a connection string to connect to PGAdmin Server. We checked the names of the tables in the database, just to be sure we created a new table name. Finally, we load the dataframe into the SQL database. "
   ]
  },
  {
   "cell_type": "code",
   "execution_count": 105,
   "metadata": {},
   "outputs": [],
   "source": [
    "rds_connection_string = \"postgres:,rc!7YVI@localhost:5432/customers_activity\"\n",
    "engine = create_engine(f'postgresql://{rds_connection_string}')"
   ]
  },
  {
   "cell_type": "code",
   "execution_count": 106,
   "metadata": {},
   "outputs": [
    {
     "data": {
      "text/plain": [
       "['customer_name', 'customer_location', 'ETL_Dataframe']"
      ]
     },
     "execution_count": 106,
     "metadata": {},
     "output_type": "execute_result"
    }
   ],
   "source": [
    "engine.table_names()"
   ]
  },
  {
   "cell_type": "code",
   "execution_count": 107,
   "metadata": {},
   "outputs": [],
   "source": [
    "df_merged.to_sql(name='df_merged', con=engine, if_exists='append', index=False)"
   ]
  },
  {
   "cell_type": "markdown",
   "metadata": {},
   "source": [
    "#### Finally, we confirmed that the table had been loaded correctly, by doing a query of the table. The table appears to be loaded correctly. "
   ]
  },
  {
   "cell_type": "code",
   "execution_count": 109,
   "metadata": {},
   "outputs": [
    {
     "data": {
      "text/html": [
       "<div>\n",
       "<style scoped>\n",
       "    .dataframe tbody tr th:only-of-type {\n",
       "        vertical-align: middle;\n",
       "    }\n",
       "\n",
       "    .dataframe tbody tr th {\n",
       "        vertical-align: top;\n",
       "    }\n",
       "\n",
       "    .dataframe thead th {\n",
       "        text-align: right;\n",
       "    }\n",
       "</style>\n",
       "<table border=\"1\" class=\"dataframe\">\n",
       "  <thead>\n",
       "    <tr style=\"text-align: right;\">\n",
       "      <th></th>\n",
       "      <th>County</th>\n",
       "      <th>State</th>\n",
       "      <th>Median Income</th>\n",
       "      <th>Unemployment Rate</th>\n",
       "      <th>Deaths</th>\n",
       "      <th>Without Insurance</th>\n",
       "    </tr>\n",
       "  </thead>\n",
       "  <tbody>\n",
       "    <tr>\n",
       "      <th>0</th>\n",
       "      <td>Kenai Peninsula</td>\n",
       "      <td>AK</td>\n",
       "      <td>68.5</td>\n",
       "      <td>7.4</td>\n",
       "      <td>415.8</td>\n",
       "      <td>17.9</td>\n",
       "    </tr>\n",
       "    <tr>\n",
       "      <th>1</th>\n",
       "      <td>Bethel</td>\n",
       "      <td>AK</td>\n",
       "      <td>46.6</td>\n",
       "      <td>19.8</td>\n",
       "      <td>480.6</td>\n",
       "      <td>23.9</td>\n",
       "    </tr>\n",
       "    <tr>\n",
       "      <th>2</th>\n",
       "      <td>Kodiak Island</td>\n",
       "      <td>AK</td>\n",
       "      <td>74.7</td>\n",
       "      <td>11.5</td>\n",
       "      <td>287.6</td>\n",
       "      <td>21.7</td>\n",
       "    </tr>\n",
       "    <tr>\n",
       "      <th>3</th>\n",
       "      <td>Anchorage</td>\n",
       "      <td>AK</td>\n",
       "      <td>84.0</td>\n",
       "      <td>6.6</td>\n",
       "      <td>346.2</td>\n",
       "      <td>12.9</td>\n",
       "    </tr>\n",
       "    <tr>\n",
       "      <th>4</th>\n",
       "      <td>Aleutians West</td>\n",
       "      <td>AK</td>\n",
       "      <td>78.2</td>\n",
       "      <td>11.7</td>\n",
       "      <td>184.7</td>\n",
       "      <td>22.3</td>\n",
       "    </tr>\n",
       "  </tbody>\n",
       "</table>\n",
       "</div>"
      ],
      "text/plain": [
       "            County State  Median Income  Unemployment Rate  Deaths  \\\n",
       "0  Kenai Peninsula    AK           68.5                7.4   415.8   \n",
       "1           Bethel    AK           46.6               19.8   480.6   \n",
       "2    Kodiak Island    AK           74.7               11.5   287.6   \n",
       "3        Anchorage    AK           84.0                6.6   346.2   \n",
       "4   Aleutians West    AK           78.2               11.7   184.7   \n",
       "\n",
       "   Without Insurance  \n",
       "0               17.9  \n",
       "1               23.9  \n",
       "2               21.7  \n",
       "3               12.9  \n",
       "4               22.3  "
      ]
     },
     "execution_count": 109,
     "metadata": {},
     "output_type": "execute_result"
    }
   ],
   "source": [
    "pd.read_sql_query('select * from df_merged', con=engine).head()"
   ]
  }
 ],
 "metadata": {
  "kernelspec": {
   "display_name": "Python 3",
   "language": "python",
   "name": "python3"
  },
  "language_info": {
   "codemirror_mode": {
    "name": "ipython",
    "version": 3
   },
   "file_extension": ".py",
   "mimetype": "text/x-python",
   "name": "python",
   "nbconvert_exporter": "python",
   "pygments_lexer": "ipython3",
   "version": "3.7.3"
  }
 },
 "nbformat": 4,
 "nbformat_minor": 2
}
